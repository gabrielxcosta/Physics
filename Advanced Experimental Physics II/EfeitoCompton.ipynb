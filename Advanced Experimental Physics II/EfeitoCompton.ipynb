{
 "cells": [
  {
   "cell_type": "markdown",
   "metadata": {},
   "source": [
    "# Experimento do Efeito Compton "
   ]
  },
  {
   "cell_type": "code",
   "execution_count": 1,
   "metadata": {},
   "outputs": [],
   "source": [
    "from scipy.constants import h, m_e, c\n",
    "import pandas as pd\n",
    "import math"
   ]
  },
  {
   "cell_type": "markdown",
   "metadata": {},
   "source": [
    "<p align=\"center\">\n",
    "  <img src=\"/home/gabriel/Documentos/Física Experimental Avançada II/Electromagnetic_spectrum.svg\" alt=\"Descrição da Imagem\">\n",
    "</p>"
   ]
  },
  {
   "cell_type": "code",
   "execution_count": 59,
   "metadata": {},
   "outputs": [],
   "source": [
    "class ComptonScattering:\n",
    "    \"\"\"\n",
    "    Class for handling Compton scattering experiments.\n",
    "\n",
    "    Attributes:\n",
    "    - theta (float): Scattering angle in radians.\n",
    "    - U (float): Accelerating voltage in kilovolts.\n",
    "    - I (float): Beam current in milliamperes.\n",
    "    - delta_T (float): Time interval in seconds.\n",
    "    - R_0 (float): Count rate without the copper filter.\n",
    "    - R_1 (float): Count rate with the copper filter in front of the aluminum body.\n",
    "    - R_2 (float): Count rate with the copper filter behind the aluminum body.\n",
    "    - R (float): Background count rate.\n",
    "    - theoretical_result (float): Theoretical wavelength shift.\n",
    "    - experimental_result (float): Experimental wavelength shift.\n",
    "    - error_experimental_result (float): Error associated with the experimental wavelength shift.\n",
    "\n",
    "    Methods:\n",
    "    - get_nm(value): Convert a value from meters to nanometers.\n",
    "    - theoretical_wavelength_shift(): Calculate the theoretical wavelength shift due to scattering.\n",
    "    - experimental_wavelength_shift(lambda_0=100e-12, a=7.6, n=2.75): Calculate the experimental wavelength shift.\n",
    "    - experimental_wavelength_error(lambda_0=100e-12, a=7.6, n=2.75): Calculate the error associated with the experimental wavelength shift.\n",
    "    \"\"\"\n",
    "    def __init__(self, data_series):\n",
    "        \"\"\"\n",
    "        Initialize a ComptonScattering object with data from a pandas Series.\n",
    "\n",
    "        Parameters:\n",
    "        data_series (pandas.Series): A pandas Series containing data for Compton scattering experiments.\n",
    "            - 'theta [rad]': Scattering angle in radians.\n",
    "            - 'U [kV]': Accelerating voltage in kilovolts.\n",
    "            - 'I [mA]': Beam current in milliamperes.\n",
    "            - 'delta_T [s]': Time interval in seconds.\n",
    "            - 'R_0 [s^-1]': Count rate without the copper filter.\n",
    "            - 'R_1 [s^-1]': Count rate with the copper filter in front of the aluminum body.\n",
    "            - 'R_2 [s^-1]': Count rate with the copper filter behind the aluminum body.\n",
    "            - 'R [s^-1]': Background count rate.\n",
    "\n",
    "        Attributes:\n",
    "        theta (float): Scattering angle in radians.\n",
    "        U (float): Accelerating voltage in kilovolts.\n",
    "        I (float): Beam current in milliamperes.\n",
    "        delta_T (float): Time interval in seconds.\n",
    "        R_0 (float): Count rate without the copper filter.\n",
    "        R_1 (float): Count rate with the copper filter in front of the aluminum body.\n",
    "        R_2 (float): Count rate with the copper filter behind the aluminum body.\n",
    "        R (float): Background count rate.\n",
    "        theoretical_result (float): Theoretical wavelength shift.\n",
    "        experimental_result (float): Experimental wavelength shift.\n",
    "        error_experimental_result (float): Error associated with the experimental wavelength shift.\n",
    "        \"\"\"\n",
    "        self.theta = data_series['theta [rad]']\n",
    "        self.U = data_series['U [kV]']\n",
    "        self.I = data_series['I [ma]']\n",
    "        self.delta_T = data_series['delta_T [s]']\n",
    "        self.R_0 = data_series['R_0 [s^-1]']\n",
    "        self.R_1 = data_series['R_1 [s^-1]']\n",
    "        self.R_2 = data_series['R_2 [s^-1]']\n",
    "        self.R = data_series['R [s^-1]']\n",
    "\n",
    "        self.theoretical_result = self.theoretical_wavelength_shift()\n",
    "        self.experimental_result = self.experimental_wavelength_shift()\n",
    "        self.error_experimental_result = self.experimental_wavelength_error()\n",
    "\n",
    "    def get_nm(self, value):\n",
    "        \"\"\"\n",
    "        Convert a value from meters to nanometers.\n",
    "\n",
    "        Parameters:\n",
    "        value (float): The value in meters.\n",
    "\n",
    "        Returns:\n",
    "        float: The value converted to nanometers.\n",
    "        \"\"\"\n",
    "        return value * 1e9\n",
    "\n",
    "    def theoretical_wavelength_shift(self):\n",
    "        \"\"\"\n",
    "        Calculate the theoretical wavelength shift due to scattering.\n",
    "\n",
    "        Parameters:\n",
    "        theta (float): The scattering angle in radians.\n",
    "\n",
    "        Returns:\n",
    "        float: The theoretical wavelength shift.\n",
    "\n",
    "        Constants:\n",
    "        - h (float): Planck's constant (m^2 kg / s).\n",
    "        - m_e (float): Electron rest mass (kg).\n",
    "        - c (float): Speed of light in vacuum (m/s).\n",
    "        \"\"\"\n",
    "        # Compton wavelength\n",
    "        lambda_c = h / (m_e * c)\n",
    "\n",
    "        # Wavelength shift formula\n",
    "        delta_lambda_theoretical = lambda_c * (1 - math.cos(self.theta))\n",
    "\n",
    "        return delta_lambda_theoretical\n",
    "    \n",
    "    def experimental_wavelength_shift(self, lambda_0=100e-12, a=7.6, n=2.75):\n",
    "        \"\"\"\n",
    "        Calculate the experimental wavelength shift due to scattering based on the arrangement developed by R. W. Pohl.\n",
    "\n",
    "        Parameters:\n",
    "        R0 (float): Count rate obtained with the arrangement without the copper filter.\n",
    "        R1 (float): Count rate obtained with the arrangement having the copper filter in front of the aluminum body.\n",
    "        R2 (float): Count rate obtained with the arrangement having the copper filter behind the aluminum body.\n",
    "        R (float): Background count rate.\n",
    "        lambda_0 (float, optional): Wavelength without scattering in meters (default is 100 picometers).\n",
    "        a (float, optional): Constant parameter (default is 7.6).\n",
    "        n (float, optional): Constant parameter (default is 2.75).\n",
    "\n",
    "        Returns:\n",
    "        float: The experimental wavelength shift.\n",
    "\n",
    "        Note:\n",
    "        T1 (float): Coefficient of transmission (in copper) for the incident X-ray beam on the aluminum body.\n",
    "        T2 (float): Coefficient of transmission (in copper) for the X-ray beam scattered by the aluminum body.\n",
    "        \"\"\"\n",
    "        # Coefficients of transmission\n",
    "        T_1 = (self.R_0 - self.R) / (self.R_1 - self.R)\n",
    "        T_2 = (self.R_0 - self.R) / (self.R_2 - self.R)\n",
    "\n",
    "        # Experimental wavelength shift formula\n",
    "        term1 = ((1 / a) * math.log(T_2)) ** (1 / n)\n",
    "        term2 = ((1 / a) * math.log(T_1)) ** (1 / n)\n",
    "\n",
    "        delta_lambda_experimental = lambda_0 * (term1 - term2)\n",
    "\n",
    "        return delta_lambda_experimental\n",
    "    \n",
    "    def experimental_wavelength_error(self, lambda_0=100e-12, a=7.6, n=2.75):\n",
    "        \"\"\"\n",
    "        Calculate the error associated with the experimental Compton shift value based on the Pohl method.\n",
    "\n",
    "        Parameters:\n",
    "        R_0 (float): Count rate obtained with the arrangement without the copper filter.\n",
    "        R_1 (float): Count rate obtained with the arrangement having the copper filter in front of the aluminum body.\n",
    "        R_2 (float): Count rate obtained with the arrangement having the copper filter behind the aluminum body.\n",
    "        R (float): Background count rate.\n",
    "        delta_t (float): Time interval in seconds.\n",
    "        lambda_0 (float, optional): Wavelength without scattering in meters (default is 100 picometers).\n",
    "        a (float, optional): Constant parameter (default is 7.6).\n",
    "        n (float, optional): Constant parameter (default is 2.75).\n",
    "\n",
    "        Returns:\n",
    "        float: The error associated with the experimental wavelength shift.\n",
    "        \"\"\"\n",
    "        T_1 = (self.R_0 - self.R) / (self.R_1 - self.R)\n",
    "        T_2 = (self.R_0 - self.R) / (self.R_2 - self.R)\n",
    "        log_term_1 = math.log(T_1)\n",
    "        log_term_2 = math.log(T_2)\n",
    "        \n",
    "        # Inside the square root\n",
    "        A = self.R_1 / (((log_term_1 ** (7 / 11)) * (self.R_1 - self.R)) ** 2)\n",
    "        B = self.R_2 / (((log_term_2 ** (7 / 11)) * (self.R_2 - self.R)) ** 2)\n",
    "        C = ((((1 / (log_term_2 ** (7 / 11))) - (1 / (log_term_1 ** (7 / 11)))) * (1 / (self.R_0 - self.R))) ** 2) * self.R_0  \n",
    "        D = ((((((self.R_0 - self.R_2) / (self.R_2 - self.R)) / (log_term_2 ** (7 / 11))) - (((self.R_0 - self.R_1) / (self.R_1 - self.R)) / (log_term_1 ** (7 / 11)))) * (1 / (self.R_0 - self.R))) ** 2) * self.R\n",
    "        \n",
    "        error = math.sqrt(((1 / self.delta_T) * (A + B + C + D))) *  (lambda_0 / n) * ((1 / a) ** (1 / n))\n",
    "\n",
    "        return error"
   ]
  },
  {
   "cell_type": "markdown",
   "metadata": {},
   "source": [
    "# Load data"
   ]
  },
  {
   "cell_type": "code",
   "execution_count": 3,
   "metadata": {},
   "outputs": [
    {
     "name": "stdout",
     "output_type": "stream",
     "text": [
      "<class 'pandas.core.series.Series'>\n",
      "Index: 8 entries, theta [rad] to R [s^-1]\n",
      "Series name: None\n",
      "Non-Null Count  Dtype  \n",
      "--------------  -----  \n",
      "8 non-null      float64\n",
      "dtypes: float64(1)\n",
      "memory usage: 128.0+ bytes\n"
     ]
    }
   ],
   "source": [
    "data_series = pd.Series(\n",
    "    {\n",
    "        'theta [rad]' : math.radians(143.8),\n",
    "        'U [kV]' : 30.,\n",
    "        'I [ma]' : 1.,\n",
    "        'delta_T [s]' : 300.,\n",
    "        'R_0 [s^-1]' : 19.16,\n",
    "        'R_1 [s^-1]' : 2.497,\n",
    "        'R_2 [s^-1]' : 1.487,\n",
    "        'R [s^-1]' : .300\n",
    "    }\n",
    ")\n",
    "\n",
    "data_series.info()"
   ]
  },
  {
   "cell_type": "code",
   "execution_count": 4,
   "metadata": {},
   "outputs": [
    {
     "data": {
      "text/plain": [
       "theta [rad]      2.509783\n",
       "U [kV]          30.000000\n",
       "I [ma]           1.000000\n",
       "delta_T [s]    300.000000\n",
       "R_0 [s^-1]      19.160000\n",
       "R_1 [s^-1]       2.497000\n",
       "R_2 [s^-1]       1.487000\n",
       "R [s^-1]         0.300000\n",
       "dtype: float64"
      ]
     },
     "execution_count": 4,
     "metadata": {},
     "output_type": "execute_result"
    }
   ],
   "source": [
    "data_series"
   ]
  },
  {
   "cell_type": "markdown",
   "metadata": {},
   "source": [
    "# Results"
   ]
  },
  {
   "cell_type": "code",
   "execution_count": 60,
   "metadata": {},
   "outputs": [],
   "source": [
    "res = ComptonScattering(data_series)"
   ]
  },
  {
   "cell_type": "code",
   "execution_count": 67,
   "metadata": {},
   "outputs": [
    {
     "name": "stdout",
     "output_type": "stream",
     "text": [
      "Theoretical value of the Compton scattering: 4.384246306248503 pm\n",
      "Experimental value of the Compton scattering: 6.058667087747161 pm\n",
      "Compton displacement experimental error value: 0.7051911852871587 pm\n"
     ]
    }
   ],
   "source": [
    "print(f'Theoretical value of the Compton scattering: {res.theoretical_result * 10e11} pm')\n",
    "print(f'Experimental value of the Compton scattering: {res.experimental_result * 10e11} pm')\n",
    "print(f'Compton displacement experimental error value: {res.error_experimental_result * 10e11} pm')"
   ]
  },
  {
   "cell_type": "code",
   "execution_count": 68,
   "metadata": {},
   "outputs": [
    {
     "name": "stdout",
     "output_type": "stream",
     "text": [
      "<class 'pandas.core.series.Series'>\n",
      "Index: 8 entries, theta [rad] to R [s^-1]\n",
      "Series name: None\n",
      "Non-Null Count  Dtype  \n",
      "--------------  -----  \n",
      "8 non-null      float64\n",
      "dtypes: float64(1)\n",
      "memory usage: 128.0+ bytes\n"
     ]
    }
   ],
   "source": [
    "data_series_2 = pd.Series(\n",
    "    {\n",
    "        'theta [rad]' : math.radians(143.5),\n",
    "        'U [kV]' : 30.,\n",
    "        'I [ma]' : 1.,\n",
    "        'delta_T [s]' : 600.,\n",
    "        'R_0 [s^-1]' : 18.15,\n",
    "        'R_1 [s^-1]' : 2.223,\n",
    "        'R_2 [s^-1]' : 1.613,\n",
    "        'R [s^-1]' : .300\n",
    "    }\n",
    ")\n",
    "\n",
    "data_series_2.info()"
   ]
  },
  {
   "cell_type": "markdown",
   "metadata": {},
   "source": [
    "# Djalma data and results"
   ]
  },
  {
   "cell_type": "code",
   "execution_count": 69,
   "metadata": {},
   "outputs": [],
   "source": [
    "res2 = ComptonScattering(data_series_2)"
   ]
  },
  {
   "cell_type": "code",
   "execution_count": 70,
   "metadata": {},
   "outputs": [
    {
     "name": "stdout",
     "output_type": "stream",
     "text": [
      "Theoretical value of the Compton scattering: 4.376716370034293 pm\n",
      "Experimental value of the Compton scattering: 3.7870149327879803 pm\n",
      "Compton displacement experimental error value: 0.5002318461962434 pm\n"
     ]
    }
   ],
   "source": [
    "print(f'Theoretical value of the Compton scattering: {res2.theoretical_result * 10e11} pm')\n",
    "print(f'Experimental value of the Compton scattering: {res2.experimental_result * 10e11} pm')\n",
    "print(f'Compton displacement experimental error value: {res2.error_experimental_result * 10e11} pm')"
   ]
  }
 ],
 "metadata": {
  "kernelspec": {
   "display_name": "base",
   "language": "python",
   "name": "python3"
  },
  "language_info": {
   "codemirror_mode": {
    "name": "ipython",
    "version": 3
   },
   "file_extension": ".py",
   "mimetype": "text/x-python",
   "name": "python",
   "nbconvert_exporter": "python",
   "pygments_lexer": "ipython3",
   "version": "3.9.13"
  },
  "orig_nbformat": 4
 },
 "nbformat": 4,
 "nbformat_minor": 2
}
